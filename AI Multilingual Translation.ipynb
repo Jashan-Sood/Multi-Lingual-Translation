{
 "cells": [
  {
   "cell_type": "code",
   "execution_count": 18,
   "metadata": {},
   "outputs": [],
   "source": [
    "import gradio as gr\n",
    "import pandas as pd\n",
    "import os\n",
    "from deep_translator import GoogleTranslator\n",
    "from langdetect import detect"
   ]
  },
  {
   "cell_type": "code",
   "execution_count": 19,
   "metadata": {},
   "outputs": [],
   "source": [
    "lang_map = {\n",
    "    \"English\": \"en\",\n",
    "    \"French\": \"fr\",\n",
    "    \"Spanish\": \"es\",\n",
    "    \"German\": \"de\",\n",
    "    \"Russian\": \"ru\",\n",
    "    \"Hindi\": \"hi\",\n",
    "    \"Bengali\": \"bn\",\n",
    "    \"Armenian\": \"hy\",\n",
    "    \"Icelandic\": \"is\",\n",
    "    \"Esperanto\": \"eo\"\n",
    "}"
   ]
  },
  {
   "cell_type": "code",
   "execution_count": 20,
   "metadata": {},
   "outputs": [],
   "source": [
    "FLAGGED_FILE = \"flagged_translations.csv\"\n",
    "\n",
    "def translate_text(from_text, target_lang):\n",
    "    try:\n",
    "        if target_lang not in lang_map:\n",
    "            return \"Error: Invalid target language\"\n",
    "\n",
    "        # ✅ Correctly Detect the Source Language\n",
    "        detected_lang = detect(from_text)\n",
    "\n",
    "        # ✅ Translate Text\n",
    "        translated = GoogleTranslator(source=detected_lang, target=lang_map[target_lang]).translate(from_text)\n",
    "\n",
    "        return f\"(Detected: {detected_lang.upper()}) {translated}\"\n",
    "    \n",
    "    except Exception as e:\n",
    "        return f\"Error: {str(e)}\"\n",
    "\n",
    "\n",
    "# ✅ Improved Flagging Function\n",
    "def flag_translation(input_text, translation, target_lang, reason):\n",
    "    try:\n",
    "        detected_lang = detect(input_text)  # Extract detected language\n",
    "        print(f\"🚩 Flagging Detected Lang: {detected_lang}\")  # Debugging Print\n",
    "\n",
    "        new_entry = pd.DataFrame([{\n",
    "            \"Input Text\": input_text,\n",
    "            \"Detected Language\": detected_lang,\n",
    "            \"Target Language\": target_lang,\n",
    "            \"Translation\": translation,\n",
    "            \"Reason\": reason\n",
    "        }])\n",
    "\n",
    "        # ✅ Ensure file exists\n",
    "        if not os.path.exists(FLAGGED_FILE):\n",
    "            new_entry.to_csv(FLAGGED_FILE, index=False, encoding=\"utf-8\")\n",
    "        else:\n",
    "            df = pd.read_csv(FLAGGED_FILE, encoding=\"utf-8\")\n",
    "            df = pd.concat([df, new_entry], ignore_index=True)\n",
    "            df.to_csv(FLAGGED_FILE, index=False, encoding=\"utf-8\")\n",
    "        \n",
    "        return \"✅ Translation flagged successfully!\"\n",
    "    except Exception as e:\n",
    "        return f\"❌ Flagging Error: {str(e)}\""
   ]
  },
  {
   "cell_type": "code",
   "execution_count": 21,
   "metadata": {},
   "outputs": [],
   "source": [
    "# ✅ Gradio Interface\n",
    "with gr.Blocks() as interface:\n",
    "    gr.Markdown(\"### 🌍 Language Translator with Flagging\")\n",
    "    \n",
    "    input_text = gr.Textbox(label=\"Enter Text\")\n",
    "    target_lang = gr.Dropdown(list(lang_map.keys()), label=\"Target Language\")\n",
    "    output_text = gr.Textbox(label=\"Translated Text\")\n",
    "\n",
    "    translate_btn = gr.Button(\"Translate\")\n",
    "    translate_btn.click(translate_text, inputs=[input_text, target_lang], outputs=output_text)\n",
    "\n",
    "    gr.Markdown(\"### 🚩 Flag Translation\")\n",
    "    flag_reason = gr.Dropdown([\"Incorrect Translation\", \"Offensive Content\", \"Other\"], label=\"Reason\")\n",
    "    flag_btn = gr.Button(\"Flag Translation\")\n",
    "    flag_msg = gr.Textbox(label=\"Flagging Status\", interactive=False)\n",
    "\n",
    "    flag_btn.click(flag_translation, inputs=[input_text, output_text, target_lang, flag_reason], outputs=flag_msg)"
   ]
  },
  {
   "cell_type": "code",
   "execution_count": 22,
   "metadata": {
    "scrolled": true
   },
   "outputs": [
    {
     "name": "stdout",
     "output_type": "stream",
     "text": [
      "* Running on local URL:  http://127.0.0.1:7861\n",
      "\n",
      "To create a public link, set `share=True` in `launch()`.\n"
     ]
    },
    {
     "data": {
      "text/html": [
       "<div><iframe src=\"http://127.0.0.1:7861/\" width=\"100%\" height=\"500\" allow=\"autoplay; camera; microphone; clipboard-read; clipboard-write;\" frameborder=\"0\" allowfullscreen></iframe></div>"
      ],
      "text/plain": [
       "<IPython.core.display.HTML object>"
      ]
     },
     "metadata": {},
     "output_type": "display_data"
    },
    {
     "data": {
      "text/plain": []
     },
     "execution_count": 22,
     "metadata": {},
     "output_type": "execute_result"
    }
   ],
   "source": [
    "interface.launch()"
   ]
  },
  {
   "cell_type": "code",
   "execution_count": null,
   "metadata": {},
   "outputs": [],
   "source": []
  }
 ],
 "metadata": {
  "kernelspec": {
   "display_name": "Python 3 (ipykernel)",
   "language": "python",
   "name": "python3"
  },
  "language_info": {
   "codemirror_mode": {
    "name": "ipython",
    "version": 3
   },
   "file_extension": ".py",
   "mimetype": "text/x-python",
   "name": "python",
   "nbconvert_exporter": "python",
   "pygments_lexer": "ipython3",
   "version": "3.13.1"
  }
 },
 "nbformat": 4,
 "nbformat_minor": 4
}
